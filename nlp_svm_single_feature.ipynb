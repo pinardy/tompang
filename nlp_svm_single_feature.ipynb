{
 "cells": [
  {
   "cell_type": "code",
   "execution_count": 1,
   "metadata": {},
   "outputs": [],
   "source": [
    "import pandas as pd\n",
    "import numpy as np\n",
    "\n",
    "from sklearn.model_selection import train_test_split\n",
    "from sklearn.feature_extraction.text import CountVectorizer\n",
    "from sklearn.feature_extraction.text import TfidfTransformer\n",
    "from sklearn.naive_bayes import MultinomialNB\n",
    "from sklearn.pipeline import Pipeline\n",
    "from sklearn.linear_model import SGDClassifier\n",
    "\n",
    "from features import category_json, category_feature_columns\n",
    "\n",
    "# Read the data\n",
    "mobile_data = pd.read_csv('data/mobile_data_info_train_competition.csv', encoding='utf8')\n",
    "fashion_data = pd.read_csv('data/fashion_data_info_train_competition.csv', encoding='utf8')\n",
    "beauty_data = pd.read_csv('data/beauty_data_info_train_competition.csv', encoding='utf8')"
   ]
  },
  {
   "cell_type": "code",
   "execution_count": 2,
   "metadata": {},
   "outputs": [],
   "source": [
    "def getFeatures(data):\n",
    "    features = data.drop(columns=['itemid', 'title', 'image_path'])\n",
    "    return list(features)\n",
    "\n",
    "\n",
    "def df_class_to_text(df, category):\n",
    "    \"\"\"This function convert the entire numeric dataframe into text dataframe\"\"\"\n",
    "\n",
    "    map_json = category_json[category]\n",
    "    column_map = {}\n",
    "    for column in category_feature_columns[category]:\n",
    "        column_map[column] = {v: k for k, v in map_json[column].items()}\n",
    "        df.loc[:, column] = df[column].map(column_map[column])\n",
    "\n",
    "    return df\n",
    "\n",
    "\n",
    "def dataPreprocessing(data, category):\n",
    "    data_text = df_class_to_text(data, category)\n",
    "    features = getFeatures(data)\n",
    "    train_data = []\n",
    "\n",
    "    data_single_feature = data_text[['title', features[0]]]\n",
    "    test_df = data_single_feature.dropna()  # 1st iteration, drop all NaNs\n",
    "    numpy_array = test_df.as_matrix()\n",
    "    print(numpy_array)\n",
    "    X = numpy_array[:, 0]  # words\n",
    "    Y = numpy_array[:, 1]  # value of OS\n",
    "    print(X,Y)\n",
    "    train_data.append((X, Y))\n",
    "\n",
    "    return train_data"
   ]
  },
  {
   "cell_type": "code",
   "execution_count": 3,
   "metadata": {},
   "outputs": [
    {
     "name": "stdout",
     "output_type": "stream",
     "text": [
      "[['apple iphone 4s back glass spare part original replacement putih' 'ios']\n",
      " ['iphone 4s 64gb white' 'ios']\n",
      " ['samsung sm b310e piton dual sim' 'ios']\n",
      " ..., \n",
      " ['xiaomi mia1 ram 4gb 64gb black' 'android']\n",
      " ['khusus hari ini samsung j2 prime' 'android']\n",
      " ['oppo a83 2 gb new garansi resmi 1 tahun' 'android']]\n",
      "['apple iphone 4s back glass spare part original replacement putih'\n",
      " 'iphone 4s 64gb white' 'samsung sm b310e piton dual sim' ...,\n",
      " 'xiaomi mia1 ram 4gb 64gb black' 'khusus hari ini samsung j2 prime'\n",
      " 'oppo a83 2 gb new garansi resmi 1 tahun'] ['ios' 'ios' 'ios' ..., 'android' 'android' 'android']\n"
     ]
    }
   ],
   "source": [
    "train_data = dataPreprocessing(mobile_data, \"mobile\")"
   ]
  },
  {
   "cell_type": "code",
   "execution_count": 4,
   "metadata": {},
   "outputs": [
    {
     "data": {
      "text/plain": [
       "[(array(['apple iphone 4s back glass spare part original replacement putih',\n",
       "         'iphone 4s 64gb white', 'samsung sm b310e piton dual sim', ...,\n",
       "         'xiaomi mia1 ram 4gb 64gb black',\n",
       "         'khusus hari ini samsung j2 prime',\n",
       "         'oppo a83 2 gb new garansi resmi 1 tahun'], dtype=object),\n",
       "  array(['ios', 'ios', 'ios', ..., 'android', 'android', 'android'], dtype=object))]"
      ]
     },
     "execution_count": 4,
     "metadata": {},
     "output_type": "execute_result"
    }
   ],
   "source": [
    "train_data"
   ]
  },
  {
   "cell_type": "markdown",
   "metadata": {},
   "source": [
    "### Training"
   ]
  },
  {
   "cell_type": "code",
   "execution_count": 5,
   "metadata": {},
   "outputs": [],
   "source": [
    "def train(train_data):\n",
    "    text_clf_list = []\n",
    "    text_clf = Pipeline([('vect', CountVectorizer(stop_words='english')),\n",
    "                         ('tfidf', TfidfTransformer()),\n",
    "                         ('clf-svm', SGDClassifier(loss='hinge', penalty='l2', alpha=1e-3, n_iter=5, random_state=42)),\n",
    "                         ])\n",
    "    \n",
    "    X = train_data[0][0]\n",
    "    Y = train_data[0][1]\n",
    "    text_clf_trained = text_clf.fit(X, Y)\n",
    "\n",
    "    return text_clf_trained"
   ]
  },
  {
   "cell_type": "code",
   "execution_count": 6,
   "metadata": {},
   "outputs": [
    {
     "name": "stderr",
     "output_type": "stream",
     "text": [
      "C:\\Users\\Pinar\\Anaconda3\\lib\\site-packages\\sklearn\\linear_model\\stochastic_gradient.py:73: DeprecationWarning: n_iter parameter is deprecated in 0.19 and will be removed in 0.21. Use max_iter and tol instead.\n",
      "  DeprecationWarning)\n"
     ]
    }
   ],
   "source": [
    "# Train a text classifier\n",
    "text_clf_list = train(train_data)"
   ]
  },
  {
   "cell_type": "markdown",
   "metadata": {},
   "source": [
    "### Testing"
   ]
  },
  {
   "cell_type": "code",
   "execution_count": 7,
   "metadata": {},
   "outputs": [],
   "source": [
    "def test(text_clf, val_data_csv):\n",
    "    val_data = pd.read_csv(val_data_csv, encoding='utf8')\n",
    "    X_test = val_data['title']\n",
    "\n",
    "    predicted = text_clf.predict(X_test)\n",
    "    return predicted"
   ]
  },
  {
   "cell_type": "code",
   "execution_count": 8,
   "metadata": {},
   "outputs": [],
   "source": [
    "# Test the model\n",
    "val_data_csv = 'data/mobile_data_info_val_competition.csv'\n",
    "predicted= test(text_clf_list, val_data_csv)"
   ]
  },
  {
   "cell_type": "code",
   "execution_count": 9,
   "metadata": {},
   "outputs": [
    {
     "name": "stdout",
     "output_type": "stream",
     "text": [
      "['ios' 'ios' 'ios' ..., 'ios' 'ios' 'ios']\n"
     ]
    }
   ],
   "source": [
    "print(predicted)"
   ]
  },
  {
   "cell_type": "code",
   "execution_count": null,
   "metadata": {},
   "outputs": [],
   "source": []
  }
 ],
 "metadata": {
  "kernelspec": {
   "display_name": "Python 3",
   "language": "python",
   "name": "python3"
  },
  "language_info": {
   "codemirror_mode": {
    "name": "ipython",
    "version": 3
   },
   "file_extension": ".py",
   "mimetype": "text/x-python",
   "name": "python",
   "nbconvert_exporter": "python",
   "pygments_lexer": "ipython3",
   "version": "3.6.2"
  }
 },
 "nbformat": 4,
 "nbformat_minor": 2
}
