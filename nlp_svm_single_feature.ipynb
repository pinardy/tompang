{
 "cells": [
  {
   "cell_type": "code",
   "execution_count": 1,
   "metadata": {},
   "outputs": [],
   "source": [
    "import pandas as pd\n",
    "import numpy as np\n",
    "import os\n",
    "\n",
    "from sklearn.model_selection import train_test_split\n",
    "from sklearn.model_selection import GridSearchCV\n",
    "from sklearn.feature_extraction.text import CountVectorizer\n",
    "from sklearn.feature_extraction.text import TfidfTransformer\n",
    "from sklearn.naive_bayes import MultinomialNB\n",
    "from sklearn.pipeline import Pipeline\n",
    "from sklearn.linear_model import SGDClassifier\n",
    "\n",
    "from features import category_json, category_feature_columns\n",
    "\n",
    "# Read the data\n",
    "mobile_data = pd.read_csv('data/mobile_data_info_train_competition.csv', encoding='utf8')\n",
    "fashion_data = pd.read_csv('data/fashion_data_info_train_competition.csv', encoding='utf8')\n",
    "beauty_data = pd.read_csv('data/beauty_data_info_train_competition.csv', encoding='utf8')"
   ]
  },
  {
   "cell_type": "code",
   "execution_count": 2,
   "metadata": {},
   "outputs": [],
   "source": [
    "def getFeatures(data):\n",
    "    features = data.drop(columns=['itemid', 'title', 'image_path'])\n",
    "    return list(features)\n",
    "\n",
    "\n",
    "def df_class_to_text(df, category):\n",
    "    \"\"\"This function convert the entire numeric dataframe into text dataframe\"\"\"\n",
    "\n",
    "    map_json = category_json[category]\n",
    "    column_map = {}\n",
    "    for column in category_feature_columns[category]:\n",
    "        column_map[column] = {v: k for k, v in map_json[column].items()}\n",
    "        df.loc[:, column] = df[column].map(column_map[column])\n",
    "\n",
    "    return df\n",
    "\n",
    "\n",
    "def dataPreprocessing(data, category):\n",
    "    data_text = df_class_to_text(data, category)\n",
    "    features = getFeatures(data)\n",
    "    train_data_list = []\n",
    "\n",
    "    for feature in features:\n",
    "        data_single_feature = data_text[['title', feature]]\n",
    "        test_df = data_single_feature.dropna()  # 1st iteration, drop all NaNs\n",
    "        numpy_array = test_df.as_matrix()\n",
    "        X = numpy_array[:, 0]\n",
    "        Y = numpy_array[:, 1]\n",
    "        train_data_list.append((X, Y))\n",
    "\n",
    "    return train_data_list"
   ]
  },
  {
   "cell_type": "code",
   "execution_count": 3,
   "metadata": {},
   "outputs": [],
   "source": [
    "train_data_list = dataPreprocessing(fashion_data, \"fashion\")"
   ]
  },
  {
   "cell_type": "markdown",
   "metadata": {},
   "source": [
    "### Training"
   ]
  },
  {
   "cell_type": "code",
   "execution_count": 4,
   "metadata": {},
   "outputs": [],
   "source": [
    "def train(train_data_list):\n",
    "   \n",
    "    text_clf_trained_list = []\n",
    "\n",
    "    for train_data in train_data_list:\n",
    "        text_clf = Pipeline([('vect', CountVectorizer()),\n",
    "                             ('tfidf', TfidfTransformer()),\n",
    "                             ('clf-svm', SGDClassifier(loss='hinge', penalty='l2', alpha=1e-3, n_iter=5, random_state=42)),\n",
    "                             ])\n",
    "        parameters = {'vect__ngram_range': [(1, 1), (1, 2)],\n",
    "                      'tfidf__use_idf': (True, False),\n",
    "                      'clf-svm__alpha': (1e-2, 1e-3)}\n",
    "        gs_clf = GridSearchCV(estimator=text_clf, param_grid=parameters, n_jobs=-1)\n",
    "                              \n",
    "        X = train_data[0]\n",
    "        Y = train_data[1]\n",
    "        text_clf_trained = gs_clf.fit(X, Y)\n",
    "        text_clf_trained_list.append(text_clf_trained)\n",
    "\n",
    "    return text_clf_trained_list"
   ]
  },
  {
   "cell_type": "code",
   "execution_count": null,
   "metadata": {},
   "outputs": [
    {
     "name": "stderr",
     "output_type": "stream",
     "text": [
      "C:\\Users\\Pinar\\Anaconda3\\lib\\site-packages\\sklearn\\linear_model\\stochastic_gradient.py:73: DeprecationWarning: n_iter parameter is deprecated in 0.19 and will be removed in 0.21. Use max_iter and tol instead.\n",
      "  DeprecationWarning)\n",
      "C:\\Users\\Pinar\\Anaconda3\\lib\\site-packages\\sklearn\\linear_model\\stochastic_gradient.py:73: DeprecationWarning: n_iter parameter is deprecated in 0.19 and will be removed in 0.21. Use max_iter and tol instead.\n",
      "  DeprecationWarning)\n",
      "C:\\Users\\Pinar\\Anaconda3\\lib\\site-packages\\sklearn\\linear_model\\stochastic_gradient.py:73: DeprecationWarning: n_iter parameter is deprecated in 0.19 and will be removed in 0.21. Use max_iter and tol instead.\n",
      "  DeprecationWarning)\n",
      "C:\\Users\\Pinar\\Anaconda3\\lib\\site-packages\\sklearn\\linear_model\\stochastic_gradient.py:73: DeprecationWarning: n_iter parameter is deprecated in 0.19 and will be removed in 0.21. Use max_iter and tol instead.\n",
      "  DeprecationWarning)\n",
      "C:\\Users\\Pinar\\Anaconda3\\lib\\site-packages\\sklearn\\linear_model\\stochastic_gradient.py:73: DeprecationWarning: n_iter parameter is deprecated in 0.19 and will be removed in 0.21. Use max_iter and tol instead.\n",
      "  DeprecationWarning)\n"
     ]
    }
   ],
   "source": [
    "# Train a text classifier\n",
    "text_clf_list = train(train_data_list)"
   ]
  },
  {
   "cell_type": "code",
   "execution_count": null,
   "metadata": {},
   "outputs": [],
   "source": [
    "def test(text_clf_list, val_data_csv):\n",
    "    predicted_list = []\n",
    "    val_data = pd.read_csv(val_data_csv, encoding='utf8')\n",
    "    \n",
    "    for text_clf in text_clf_list:\n",
    "        X_test = val_data['title']\n",
    "        predicted = text_clf.predict(X_test)\n",
    "        predicted_list.append(predicted)\n",
    "    \n",
    "    return predicted_list"
   ]
  },
  {
   "cell_type": "code",
   "execution_count": null,
   "metadata": {},
   "outputs": [],
   "source": [
    "# Test the model\n",
    "val_data_csv = 'data/fashion_data_info_val_competition.csv'\n",
    "predicted_list = test(text_clf_list, val_data_csv)"
   ]
  },
  {
   "cell_type": "code",
   "execution_count": null,
   "metadata": {},
   "outputs": [],
   "source": [
    "predicted_list"
   ]
  },
  {
   "cell_type": "markdown",
   "metadata": {},
   "source": [
    "### Create CSV files for prediction results"
   ]
  },
  {
   "cell_type": "code",
   "execution_count": null,
   "metadata": {},
   "outputs": [],
   "source": [
    "def savePredictionResults(predicted_list, dataset_type):\n",
    "    dataset = 'data/' + dataset_type + '_data_info_val_competition.csv'\n",
    "    validation_data = pd.read_csv(dataset, encoding='utf8')\n",
    "\n",
    "    if (dataset_type == \"mobile\"):\n",
    "        data = mobile_data\n",
    "    elif (dataset_type == \"fashion\"):\n",
    "        data = fashion_data\n",
    "    else:\n",
    "        data = beauty_data\n",
    "\n",
    "    if not os.path.exists('predictions'):\n",
    "        os.makedirs('predictions')\n",
    "\n",
    "    for i in range(len(getFeatures(data))):\n",
    "        prediction = [entry for entry in predicted_list[i]]\n",
    "        feature = getFeatures(data)[i]\n",
    "        validation_data.insert(3+i, feature, prediction)\n",
    "        \n",
    "    prediction_csv = dataset_type + '_data_info_val_prediction_competition.csv'\n",
    "    validation_data.to_csv(\"predictions/\" + prediction_csv, index=False)\n",
    "    print(\"Prediction results saved to \" + prediction_csv + \"\\n\")"
   ]
  },
  {
   "cell_type": "code",
   "execution_count": null,
   "metadata": {},
   "outputs": [],
   "source": [
    "savePredictionResults(predicted_list, \"fashion\")"
   ]
  }
 ],
 "metadata": {
  "kernelspec": {
   "display_name": "Python 3",
   "language": "python",
   "name": "python3"
  },
  "language_info": {
   "codemirror_mode": {
    "name": "ipython",
    "version": 3
   },
   "file_extension": ".py",
   "mimetype": "text/x-python",
   "name": "python",
   "nbconvert_exporter": "python",
   "pygments_lexer": "ipython3",
   "version": "3.6.2"
  }
 },
 "nbformat": 4,
 "nbformat_minor": 2
}
