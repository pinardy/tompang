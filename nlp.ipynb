{
 "cells": [
  {
   "cell_type": "markdown",
   "metadata": {},
   "source": [
    "# NLP: Text Classification using scikit-learn, python and NLTK.\n",
    "Sources:  \n",
    "- https://towardsdatascience.com/machine-learning-nlp-text-classification-using-scikit-learn-python-and-nltk-c52b92a7c73a  \n",
    "- https://scikit-learn.org/stable/tutorial/text_analytics/working_with_text_data.html  \n",
    "\n",
    "**Method:** Naive Bayes classifier for multinomial models  \n",
    "Applied to data from NDSC (https://www.kaggle.com/c/ndsc-advanced)"
   ]
  },
  {
   "cell_type": "markdown",
   "metadata": {},
   "source": [
    "### Reading the data"
   ]
  },
  {
   "cell_type": "code",
   "execution_count": 2,
   "metadata": {},
   "outputs": [],
   "source": [
    "import pandas as pd\n",
    "import numpy as np\n",
    "\n",
    "# Read the data\n",
    "mobile_data = pd.read_csv('data/mobile_data_info_train_competition.csv', encoding='utf8')\n",
    "fashion_data = pd.read_csv('data/fashion_data_info_train_competition.csv', encoding='utf8')\n",
    "beauty_data = pd.read_csv('data/beauty_data_info_train_competition.csv', encoding='utf8')"
   ]
  },
  {
   "cell_type": "code",
   "execution_count": 5,
   "metadata": {},
   "outputs": [
    {
     "name": "stdout",
     "output_type": "stream",
     "text": [
      "Features in mobile data\n",
      "['Operating System', 'Features', 'Network Connections', 'Memory RAM', 'Brand', 'Warranty Period', 'Storage Capacity', 'Color Family', 'Phone Model', 'Camera', 'Phone Screen Size']\n",
      "\n",
      "Features in fashion data\n",
      "['Pattern', 'Collar Type', 'Sleeves', 'Fashion Trend', 'Clothing Material']\n",
      "\n",
      "Features in beauty data\n",
      "['Colour_group', 'Brand', 'Benefits', 'Product_texture', 'Skin_type']\n"
     ]
    }
   ],
   "source": [
    "def getFeatures(data):\n",
    "    features = data.drop(columns=['itemid', 'title', 'image_path'])\n",
    "    return list(features)\n",
    "\n",
    "print(\"Features in mobile data\")\n",
    "print(getFeatures(mobile_data))\n",
    "\n",
    "print(\"\\nFeatures in fashion data\")\n",
    "print(getFeatures(fashion_data))\n",
    "\n",
    "print(\"\\nFeatures in beauty data\")\n",
    "print(getFeatures(beauty_data))"
   ]
  },
  {
   "cell_type": "markdown",
   "metadata": {},
   "source": [
    "### Data Preprocessing\n",
    "1st iteration: Dropping all NaNs. Future iterations to improve data quality or to try other techniques"
   ]
  },
  {
   "cell_type": "code",
   "execution_count": 6,
   "metadata": {},
   "outputs": [],
   "source": [
    "def dataPreprocessing(data):\n",
    "    features = getFeatures(data)\n",
    "    train_data = []\n",
    "\n",
    "    for feature in features:\n",
    "        data_single_feature = data[['title', feature]]\n",
    "        test_df = data_single_feature.dropna()  # 1st iteration, drop all NaNs\n",
    "        numpy_array = test_df.as_matrix()\n",
    "        X = numpy_array[:, 0]  # words\n",
    "        Y = numpy_array[:, 1]  # value of OS\n",
    "        Y = Y.astype(int)  # need to cast to int for later use\n",
    "        train_data.append((X, Y))\n",
    "\n",
    "    return train_data"
   ]
  },
  {
   "cell_type": "code",
   "execution_count": 13,
   "metadata": {},
   "outputs": [],
   "source": [
    "train_data = dataPreprocessing(mobile_data)"
   ]
  },
  {
   "cell_type": "markdown",
   "metadata": {},
   "source": [
    "### Train model and test"
   ]
  },
  {
   "cell_type": "code",
   "execution_count": 14,
   "metadata": {},
   "outputs": [],
   "source": [
    "from sklearn.model_selection import train_test_split\n",
    "from sklearn.feature_extraction.text import CountVectorizer\n",
    "from sklearn.feature_extraction.text import TfidfTransformer\n",
    "from sklearn.naive_bayes import MultinomialNB\n",
    "from sklearn.pipeline import Pipeline\n",
    "\n",
    "def train(train_data):\n",
    "    text_clf_list = []\n",
    "    text_clf = Pipeline([('vect', CountVectorizer(stop_words='english')),\n",
    "                         ('tfidf', TfidfTransformer()),\n",
    "                         ('clf', MultinomialNB()),\n",
    "                         ])\n",
    "\n",
    "    for data in train_data:\n",
    "        X = data[0]\n",
    "        Y = data[1]\n",
    "        X_train, X_test, Y_train, Y_test = train_test_split(\n",
    "            X, Y, test_size=0.4, random_state=42)\n",
    "        text_clf = text_clf.fit(X_train, Y_train)\n",
    "        text_clf_list.append(text_clf)\n",
    "\n",
    "    return text_clf_list"
   ]
  },
  {
   "cell_type": "code",
   "execution_count": 15,
   "metadata": {},
   "outputs": [],
   "source": [
    "# Train a text classifier\n",
    "text_clf_list = train(train_data)"
   ]
  },
  {
   "cell_type": "markdown",
   "metadata": {},
   "source": [
    "### Test with mobile_data_info_val_competition.csv"
   ]
  },
  {
   "cell_type": "code",
   "execution_count": 17,
   "metadata": {},
   "outputs": [],
   "source": [
    "def test(text_clf_list, val_data_csv):\n",
    "    val_data = pd.read_csv(val_data_csv, encoding='utf8')\n",
    "    X_test = val_data['title']\n",
    "    predicted_list = []\n",
    "\n",
    "    for text_clf in text_clf_list:\n",
    "        predicted = text_clf.predict(X_test)\n",
    "        predicted_list.append(predicted)\n",
    "\n",
    "    return predicted_list"
   ]
  },
  {
   "cell_type": "code",
   "execution_count": 18,
   "metadata": {},
   "outputs": [
    {
     "name": "stdout",
     "output_type": "stream",
     "text": [
      "[array([2, 5, 2, ..., 5, 5, 5]), array([2, 5, 2, ..., 5, 5, 5]), array([2, 5, 2, ..., 5, 5, 5]), array([2, 5, 2, ..., 5, 5, 5]), array([2, 5, 2, ..., 5, 5, 5]), array([2, 5, 2, ..., 5, 5, 5]), array([2, 5, 2, ..., 5, 5, 5]), array([2, 5, 2, ..., 5, 5, 5]), array([2, 5, 2, ..., 5, 5, 5]), array([2, 5, 2, ..., 5, 5, 5]), array([2, 5, 2, ..., 5, 5, 5])]\n"
     ]
    }
   ],
   "source": [
    "# Test the model\n",
    "val_data_csv = 'data/mobile_data_info_val_competition.csv'\n",
    "predicted_list = test(text_clf_list, val_data_csv)\n",
    "print(predicted_list) # Note: This is only top-1 prediction. "
   ]
  },
  {
   "cell_type": "markdown",
   "metadata": {},
   "source": [
    "**Note:** This is currently only top-1 prediction. Top-2 prediction is needed for a valid submission format.\n",
    "\n",
    "**TODO:** Get top-2 prediction  \n",
    "**TODO:** Create submission format"
   ]
  },
  {
   "cell_type": "code",
   "execution_count": null,
   "metadata": {},
   "outputs": [],
   "source": []
  }
 ],
 "metadata": {
  "kernelspec": {
   "display_name": "Python 3",
   "language": "python",
   "name": "python3"
  },
  "language_info": {
   "codemirror_mode": {
    "name": "ipython",
    "version": 3
   },
   "file_extension": ".py",
   "mimetype": "text/x-python",
   "name": "python",
   "nbconvert_exporter": "python",
   "pygments_lexer": "ipython3",
   "version": "3.6.2"
  }
 },
 "nbformat": 4,
 "nbformat_minor": 2
}
